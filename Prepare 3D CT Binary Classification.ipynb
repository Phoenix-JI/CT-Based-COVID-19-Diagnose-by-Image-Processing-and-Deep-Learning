{
 "cells": [
  {
   "cell_type": "code",
   "execution_count": 154,
   "metadata": {},
   "outputs": [],
   "source": [
    "from _3D_CT_Preprocess import preprocessScan\n",
    "from _3D_CT_Preprocess import getScan\n",
    "from _3D_CT_Preprocess import normalizeScan\n",
    "from _3D_CT_Preprocess import resizeScan\n",
    "import numpy as np\n",
    "import SimpleITK as sitk\n",
    "import matplotlib.pyplot as plt\n",
    "from scipy import ndimage\n",
    "import os\n",
    "import matplotlib.pyplot as plt"
   ]
  },
  {
   "cell_type": "code",
   "execution_count": null,
   "metadata": {},
   "outputs": [],
   "source": []
  },
  {
   "cell_type": "code",
   "execution_count": 155,
   "metadata": {},
   "outputs": [],
   "source": [
    "Cat = ['Positive','Negative']\n",
    "Count = [349,397]"
   ]
  },
  {
   "cell_type": "code",
   "execution_count": 156,
   "metadata": {},
   "outputs": [
    {
     "data": {
      "text/plain": [
       "<BarContainer object of 2 artists>"
      ]
     },
     "execution_count": 156,
     "metadata": {},
     "output_type": "execute_result"
    },
    {
     "data": {
      "image/png": "[encoded data removed]",
      "text/plain": [
       "<Figure size 432x288 with 1 Axes>"
      ]
     },
     "metadata": {
      "needs_background": "light"
     },
     "output_type": "display_data"
    }
   ],
   "source": [
    "plt.bar(Cat,Count)"
   ]
  },
  {
   "cell_type": "markdown",
   "metadata": {},
   "source": [
    "# Direct Classification"
   ]
  },
  {
   "cell_type": "code",
   "execution_count": 87,
   "metadata": {},
   "outputs": [],
   "source": [
    "CovidScan=[]\n",
    "Label=[]"
   ]
  },
  {
   "cell_type": "code",
   "execution_count": 88,
   "metadata": {},
   "outputs": [],
   "source": [
    "CovidScan_Path_0 = \"/Users/phoenixji/Desktop/LungData/MosMedData/CT-0/\"\n",
    "CovidScan_Path_1 = \"/Users/phoenixji/Desktop/LungData/MosMedData/CT-1/\"\n",
    "CovidScan_Path_2 = \"/Users/phoenixji/Desktop/LungData/MosMedData/CT-2/\"\n",
    "CovidScan_Path_3 = \"/Users/phoenixji/Desktop/LungData/MosMedData/CT-3/\"\n",
    "CovidScan_Path_4 = \"/Users/phoenixji/Desktop/LungData/MosMedData/CT-4/\"\n",
    "CovidScan_List_0 = os.listdir(CovidScan_Path_0)\n",
    "CovidScan_List_1 = os.listdir(CovidScan_Path_1)\n",
    "CovidScan_List_2 = os.listdir(CovidScan_Path_2)\n",
    "CovidScan_List_3 = os.listdir(CovidScan_Path_3)\n",
    "CovidScan_List_4 = os.listdir(CovidScan_Path_4)"
   ]
  },
  {
   "cell_type": "code",
   "execution_count": null,
   "metadata": {},
   "outputs": [],
   "source": [
    "# Negative CT\n",
    "for Scan_ in CovidScan_List_0:\n",
    "    \n",
    "    if(Scan_ == \".DS_Store\"):\n",
    "        continue;\n",
    "    \n",
    "    scan = preprocessScan(CovidScan_Path_0+Scan_,(128,128,64))\n",
    "    scan = np.expand_dims(scan,axis=-1)\n",
    "    print(\"After Resize\"+str(scan.shape))\n",
    " \n",
    "    CovidScan.append(scan)\n",
    "    Label.append(0)\n"
   ]
  },
  {
   "cell_type": "code",
   "execution_count": 90,
   "metadata": {},
   "outputs": [
    {
     "data": {
      "text/plain": [
       "(254, 254)"
      ]
     },
     "execution_count": 90,
     "metadata": {},
     "output_type": "execute_result"
    }
   ],
   "source": [
    "len(CovidScan),len(Label)"
   ]
  },
  {
   "cell_type": "code",
   "execution_count": null,
   "metadata": {},
   "outputs": [],
   "source": [
    "# Positive CT\n",
    "i = 0\n",
    "for Scan_ in CovidScan_List_1:\n",
    "    \n",
    "    if(Scan_ == \".DS_Store\"):\n",
    "        continue;\n",
    "    \n",
    "    scan = preprocessScan(CovidScan_Path_1+Scan_,(128,128,64))\n",
    "    scan = np.expand_dims(scan,axis=-1)\n",
    "    print(\"After Resize\"+str(scan.shape))\n",
    " \n",
    "    CovidScan.append(scan)\n",
    "    Label.append(1)\n",
    "    i=i+1\n",
    "    \n",
    "    if i == 103:\n",
    "        break;"
   ]
  },
  {
   "cell_type": "code",
   "execution_count": null,
   "metadata": {},
   "outputs": [],
   "source": [
    "i=0\n",
    "for Scan_ in CovidScan_List_2:\n",
    "    \n",
    "    if(Scan_ == \".DS_Store\"):\n",
    "        continue;\n",
    "    \n",
    "    scan = preprocessScan(CovidScan_Path_2+Scan_,(128,128,64))\n",
    "    scan = np.expand_dims(scan,axis=-1)\n",
    "    print(\"After Resize\"+str(scan.shape))\n",
    " \n",
    "    CovidScan.append(scan)\n",
    "    Label.append(1)\n",
    "    i= i+1\n",
    "    \n",
    "    if i == 104:\n",
    "        break;"
   ]
  },
  {
   "cell_type": "code",
   "execution_count": null,
   "metadata": {},
   "outputs": [],
   "source": [
    "\n",
    "for Scan_ in CovidScan_List_3:\n",
    "    \n",
    "    if(Scan_ == \".DS_Store\"):\n",
    "        continue;\n",
    "    \n",
    "    scan = preprocessScan(CovidScan_Path_3+Scan_,(128,128,64))\n",
    "    scan = np.expand_dims(scan,axis=-1)\n",
    "    print(\"After Resize\"+str(scan.shape))\n",
    " \n",
    "    CovidScan.append(scan)\n",
    "    Label.append(1)\n",
    "    i=i+1\n"
   ]
  },
  {
   "cell_type": "code",
   "execution_count": 94,
   "metadata": {},
   "outputs": [
    {
     "data": {
      "text/plain": [
       "(506, 506)"
      ]
     },
     "execution_count": 94,
     "metadata": {},
     "output_type": "execute_result"
    }
   ],
   "source": [
    "len(CovidScan),len(Label)"
   ]
  },
  {
   "cell_type": "code",
   "execution_count": 95,
   "metadata": {},
   "outputs": [
    {
     "name": "stdout",
     "output_type": "stream",
     "text": [
      "After Resize(128, 128, 64, 1)\n",
      "After Resize(128, 128, 64, 1)\n"
     ]
    }
   ],
   "source": [
    "for Scan_ in CovidScan_List_4:\n",
    "    \n",
    "    if(Scan_ == \".DS_Store\"):\n",
    "        continue;\n",
    "    \n",
    "    scan = preprocessScan(CovidScan_Path_4+Scan_,(128,128,64))\n",
    "    scan = np.expand_dims(scan,axis=-1)\n",
    "    print(\"After Resize\"+str(scan.shape))\n",
    " \n",
    "    CovidScan.append(scan)\n",
    "    Label.append(1)"
   ]
  },
  {
   "cell_type": "code",
   "execution_count": 96,
   "metadata": {},
   "outputs": [
    {
     "data": {
      "text/plain": [
       "(508, 508)"
      ]
     },
     "execution_count": 96,
     "metadata": {},
     "output_type": "execute_result"
    }
   ],
   "source": [
    "len(CovidScan),len(Label)"
   ]
  },
  {
   "cell_type": "code",
   "execution_count": 97,
   "metadata": {},
   "outputs": [],
   "source": [
    "from sklearn.model_selection import train_test_split\n",
    "X_train, X_test, y_train, y_test = train_test_split(np.array(CovidScan), np.array(Label),test_size = 0.2,shuffle=True)"
   ]
  },
  {
   "cell_type": "code",
   "execution_count": 98,
   "metadata": {},
   "outputs": [
    {
     "data": {
      "text/plain": [
       "<matplotlib.image.AxesImage at 0x7fc77283e070>"
      ]
     },
     "execution_count": 98,
     "metadata": {},
     "output_type": "execute_result"
    },
    {
     "data": {
      "image/png": "[encoded data removed]",
      "text/plain": [
       "<Figure size 432x288 with 1 Axes>"
      ]
     },
     "metadata": {
      "needs_background": "light"
     },
     "output_type": "display_data"
    }
   ],
   "source": [
    "plt.imshow(X_train[309][:,:,28],cmap='gray')"
   ]
  },
  {
   "cell_type": "code",
   "execution_count": 99,
   "metadata": {},
   "outputs": [],
   "source": [
    "np.save('X_train_3D_Direct_BinaryClass',X_train)\n",
    "np.save('y_train_3D_Direct_BinaryClass',y_train)\n",
    "np.save('X_test_3D_Direct_BinaryClass',X_test)\n",
    "np.save('y_test_3D_Direct_BinaryClass',y_test)"
   ]
  },
  {
   "cell_type": "code",
   "execution_count": 85,
   "metadata": {},
   "outputs": [
    {
     "data": {
      "text/plain": [
       "((406, 128, 128, 64), (406,), (102, 128, 128, 64), (102,))"
      ]
     },
     "execution_count": 85,
     "metadata": {},
     "output_type": "execute_result"
    }
   ],
   "source": [
    "X_train.shape,y_train.shape,X_test.shape,y_test.shape"
   ]
  },
  {
   "cell_type": "code",
   "execution_count": null,
   "metadata": {},
   "outputs": [],
   "source": []
  },
  {
   "cell_type": "markdown",
   "metadata": {},
   "source": [
    "# Segmentation Lung to do classifiction"
   ]
  },
  {
   "cell_type": "code",
   "execution_count": 103,
   "metadata": {},
   "outputs": [],
   "source": [
    "CovidScan=[]\n",
    "Label=[]"
   ]
  },
  {
   "cell_type": "code",
   "execution_count": 104,
   "metadata": {},
   "outputs": [],
   "source": [
    "CovidScan_Path_0 = \"/Users/phoenixji/Desktop/LungData/MosMedData/CT-0/\"\n",
    "CovidScan_Path_1 = \"/Users/phoenixji/Desktop/LungData/MosMedData/CT-1/\"\n",
    "CovidScan_Path_2 = \"/Users/phoenixji/Desktop/LungData/MosMedData/CT-2/\"\n",
    "CovidScan_Path_3 = \"/Users/phoenixji/Desktop/LungData/MosMedData/CT-3/\"\n",
    "CovidScan_Path_4 = \"/Users/phoenixji/Desktop/LungData/MosMedData/CT-4/\"\n",
    "CovidScan_List_0 = os.listdir(CovidScan_Path_0)\n",
    "CovidScan_List_1 = os.listdir(CovidScan_Path_1)\n",
    "CovidScan_List_2 = os.listdir(CovidScan_Path_2)\n",
    "CovidScan_List_3 = os.listdir(CovidScan_Path_3)\n",
    "CovidScan_List_4 = os.listdir(CovidScan_Path_4)"
   ]
  },
  {
   "cell_type": "code",
   "execution_count": 105,
   "metadata": {},
   "outputs": [
    {
     "data": {
      "text/plain": [
       "255"
      ]
     },
     "execution_count": 105,
     "metadata": {},
     "output_type": "execute_result"
    }
   ],
   "source": [
    "len(CovidScan_List_0)"
   ]
  },
  {
   "cell_type": "code",
   "execution_count": null,
   "metadata": {},
   "outputs": [],
   "source": [
    "# Negative CT\n",
    "for Scan_ in CovidScan_List_0:\n",
    "    \n",
    "    if(Scan_ == \".DS_Store\"):\n",
    "        continue;\n",
    "    \n",
    "    # Add the lung segmented CT to area\n",
    "    scan = getScan(CovidScan_Path_0+Scan_)\n",
    "    lungMask = np.array([get_segmented_lungs(slice.copy()) for slice in scan])\n",
    "    scan[~lungMask] = 0\n",
    "    scan = normalizeScan(scan)\n",
    "    print(\"Before Resize\"+str(scan.shape))\n",
    "    \n",
    "    if(scan.shape[0] != scan.shape[1]):\n",
    "        scan = np.swapaxes(scan,0,1)  #(64,128,128) => (128,128,64)\n",
    "        scan = np.swapaxes(scan,1,2)\n",
    "        \n",
    "    scan = resizeScan(scan,(128,128,64))\n",
    "    scan = np.expand_dims(scan,axis=-1)\n",
    "    print(\"After Resize\"+str(scan.shape))\n",
    " \n",
    "    CovidScan.append(scan)\n",
    "    Label.append(0)\n"
   ]
  },
  {
   "cell_type": "code",
   "execution_count": 107,
   "metadata": {},
   "outputs": [
    {
     "data": {
      "text/plain": [
       "(254, 254)"
      ]
     },
     "execution_count": 107,
     "metadata": {},
     "output_type": "execute_result"
    }
   ],
   "source": [
    "len(CovidScan),len(Label)"
   ]
  },
  {
   "cell_type": "code",
   "execution_count": null,
   "metadata": {},
   "outputs": [],
   "source": [
    "# Positive CT\n",
    "i = 0\n",
    "for Scan_ in CovidScan_List_1:\n",
    "    \n",
    "    if(Scan_ == \".DS_Store\"):\n",
    "        continue;\n",
    "    \n",
    "    # Add the lung segmented CT to area\n",
    "    scan = getScan(CovidScan_Path_1+Scan_)\n",
    "    lungMask = np.array([get_segmented_lungs(slice.copy()) for slice in scan])\n",
    "    scan[~lungMask] = 0\n",
    "    scan = normalizeScan(scan)\n",
    "    print(\"Before Resize\"+str(scan.shape))\n",
    "    \n",
    "    if(scan.shape[0] != scan.shape[1]):\n",
    "        scan = np.swapaxes(scan,0,1)  #(64,128,128) => (128,128,64)\n",
    "        scan = np.swapaxes(scan,1,2)\n",
    "        \n",
    "    scan = resizeScan(scan,(128,128,64))\n",
    "    scan = np.expand_dims(scan,axis=-1)\n",
    "    print(\"After Resize\"+str(scan.shape))\n",
    " \n",
    "    CovidScan.append(scan)\n",
    "    Label.append(1)\n",
    "    \n",
    "    i = i+1\n",
    "    if i==103:\n",
    "        break;\n",
    "        "
   ]
  },
  {
   "cell_type": "code",
   "execution_count": 109,
   "metadata": {},
   "outputs": [
    {
     "data": {
      "text/plain": [
       "(357, 357)"
      ]
     },
     "execution_count": 109,
     "metadata": {},
     "output_type": "execute_result"
    }
   ],
   "source": [
    "len(CovidScan),len(Label)"
   ]
  },
  {
   "cell_type": "code",
   "execution_count": null,
   "metadata": {},
   "outputs": [],
   "source": [
    "i=0\n",
    "for Scan_ in CovidScan_List_2:\n",
    "    \n",
    "    if(Scan_ == \".DS_Store\"):\n",
    "        continue;\n",
    "    \n",
    "    # Add the lung segmented CT to area\n",
    "    scan = getScan(CovidScan_Path_2+Scan_)\n",
    "    lungMask = np.array([get_segmented_lungs(slice.copy()) for slice in scan])\n",
    "    scan[~lungMask] = 0\n",
    "    scan = normalizeScan(scan)\n",
    "    print(\"Before Resize\"+str(scan.shape))\n",
    "    \n",
    "    if(scan.shape[0] != scan.shape[1]):\n",
    "        scan = np.swapaxes(scan,0,1)  #(64,128,128) => (128,128,64)\n",
    "        scan = np.swapaxes(scan,1,2)\n",
    "        \n",
    "    scan = resizeScan(scan,(128,128,64))\n",
    "    scan = np.expand_dims(scan,axis=-1)\n",
    "    print(\"After Resize\"+str(scan.shape))\n",
    " \n",
    "    CovidScan.append(scan)\n",
    "    Label.append(1)\n",
    "    \n",
    "    i = i+1\n",
    "    if i==103:\n",
    "        break;"
   ]
  },
  {
   "cell_type": "code",
   "execution_count": 111,
   "metadata": {},
   "outputs": [
    {
     "data": {
      "text/plain": [
       "(460, 460)"
      ]
     },
     "execution_count": 111,
     "metadata": {},
     "output_type": "execute_result"
    }
   ],
   "source": [
    "len(CovidScan),len(Label)"
   ]
  },
  {
   "cell_type": "code",
   "execution_count": null,
   "metadata": {},
   "outputs": [],
   "source": [
    "\n",
    "for Scan_ in CovidScan_List_3:\n",
    "    \n",
    "    if(Scan_ == \".DS_Store\"):\n",
    "        continue;\n",
    "    \n",
    "    # Add the lung segmented CT to area\n",
    "    scan = getScan(CovidScan_Path_3+Scan_)\n",
    "    lungMask = np.array([get_segmented_lungs(slice.copy()) for slice in scan])\n",
    "    scan[~lungMask] = 0\n",
    "    scan = normalizeScan(scan)\n",
    "    print(\"Before Resize\"+str(scan.shape))\n",
    "    \n",
    "    if(scan.shape[0] != scan.shape[1]):\n",
    "        scan = np.swapaxes(scan,0,1)  #(64,128,128) => (128,128,64)\n",
    "        scan = np.swapaxes(scan,1,2)\n",
    "        \n",
    "    scan = resizeScan(scan,(128,128,64))\n",
    "    scan = np.expand_dims(scan,axis=-1)\n",
    "    print(\"After Resize\"+str(scan.shape))\n",
    " \n",
    "    CovidScan.append(scan)\n",
    "    Label.append(1)\n",
    "    \n",
    " "
   ]
  },
  {
   "cell_type": "code",
   "execution_count": 113,
   "metadata": {},
   "outputs": [
    {
     "data": {
      "text/plain": [
       "(505, 505)"
      ]
     },
     "execution_count": 113,
     "metadata": {},
     "output_type": "execute_result"
    }
   ],
   "source": [
    "len(CovidScan),len(Label)"
   ]
  },
  {
   "cell_type": "code",
   "execution_count": 114,
   "metadata": {},
   "outputs": [
    {
     "name": "stdout",
     "output_type": "stream",
     "text": [
      "Before Resize(42, 512, 512)\n",
      "After Resize(128, 128, 64, 1)\n",
      "Before Resize(36, 512, 512)\n",
      "After Resize(128, 128, 64, 1)\n"
     ]
    }
   ],
   "source": [
    "for Scan_ in CovidScan_List_4:\n",
    "    \n",
    "    if(Scan_ == \".DS_Store\"):\n",
    "        continue;\n",
    "    \n",
    "    # Add the lung segmented CT to area\n",
    "    scan = getScan(CovidScan_Path_4+Scan_)\n",
    "    lungMask = np.array([get_segmented_lungs(slice.copy()) for slice in scan])\n",
    "    scan[~lungMask] = 0\n",
    "    scan = normalizeScan(scan)\n",
    "    print(\"Before Resize\"+str(scan.shape))\n",
    "    \n",
    "    if(scan.shape[0] != scan.shape[1]):\n",
    "        scan = np.swapaxes(scan,0,1)  #(64,128,128) => (128,128,64)\n",
    "        scan = np.swapaxes(scan,1,2)\n",
    "        \n",
    "    scan = resizeScan(scan,(128,128,64))\n",
    "    scan = np.expand_dims(scan,axis=-1)\n",
    "    print(\"After Resize\"+str(scan.shape))\n",
    " \n",
    "    CovidScan.append(scan)\n",
    "    Label.append(1)"
   ]
  },
  {
   "cell_type": "code",
   "execution_count": 116,
   "metadata": {},
   "outputs": [
    {
     "data": {
      "text/plain": [
       "(507, 507)"
      ]
     },
     "execution_count": 116,
     "metadata": {},
     "output_type": "execute_result"
    }
   ],
   "source": [
    "len(CovidScan),len(Label)"
   ]
  },
  {
   "cell_type": "code",
   "execution_count": 17,
   "metadata": {},
   "outputs": [
    {
     "data": {
      "text/plain": [
       "(128, 128, 64, 1)"
      ]
     },
     "execution_count": 17,
     "metadata": {},
     "output_type": "execute_result"
    }
   ],
   "source": [
    "CovidScan[0].shape"
   ]
  },
  {
   "cell_type": "code",
   "execution_count": 129,
   "metadata": {},
   "outputs": [
    {
     "data": {
      "text/plain": [
       "<matplotlib.image.AxesImage at 0x7fc7e8032b50>"
      ]
     },
     "execution_count": 129,
     "metadata": {},
     "output_type": "execute_result"
    },
    {
     "data": {
      "image/png": "[encoded data removed]",
      "text/plain": [
       "<Figure size 432x288 with 1 Axes>"
      ]
     },
     "metadata": {
      "needs_background": "light"
     },
     "output_type": "display_data"
    }
   ],
   "source": [
    "plt.imshow(CovidScan[-1][:,:,28],cmap='gray')"
   ]
  },
  {
   "cell_type": "code",
   "execution_count": 124,
   "metadata": {},
   "outputs": [],
   "source": [
    "from sklearn.model_selection import train_test_split\n",
    "X_train, X_test, y_train, y_test = train_test_split(np.array(CovidScan), np.array(Label), \n",
    "                                                    test_size = 0.2, random_state = 0,shuffle=True)"
   ]
  },
  {
   "cell_type": "code",
   "execution_count": 125,
   "metadata": {},
   "outputs": [],
   "source": [
    "np.save('X_train_3D_LungSeg_BinaryClass',X_train)\n",
    "np.save('y_train_3D_LungSeg_BinaryClass',y_train)\n",
    "np.save('X_test_3D_LungSeg_BinaryClass',X_test)\n",
    "np.save('y_test_3D_LungSeg_BinaryClass',y_test)"
   ]
  },
  {
   "cell_type": "code",
   "execution_count": null,
   "metadata": {},
   "outputs": [],
   "source": []
  }
 ],
 "metadata": {
  "kernelspec": {
   "display_name": "Python 3",
   "language": "python",
   "name": "python3"
  },
  "language_info": {
   "codemirror_mode": {
    "name": "ipython",
    "version": 3
   },
   "file_extension": ".py",
   "mimetype": "text/x-python",
   "name": "python",
   "nbconvert_exporter": "python",
   "pygments_lexer": "ipython3",
   "version": "3.8.5"
  }
 },
 "nbformat": 4,
 "nbformat_minor": 4
}
