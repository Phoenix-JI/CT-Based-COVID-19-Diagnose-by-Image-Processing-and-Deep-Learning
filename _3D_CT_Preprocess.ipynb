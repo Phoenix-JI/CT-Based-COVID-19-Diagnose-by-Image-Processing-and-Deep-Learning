{
 "cells": [
  {
   "cell_type": "code",
   "execution_count": 182,
   "metadata": {},
   "outputs": [],
   "source": [
    "import numpy as np\n",
    "import SimpleITK as sitk\n",
    "import matplotlib.pyplot as plt\n",
    "import os\n",
    "from scipy import ndimage"
   ]
  },
  {
   "cell_type": "code",
   "execution_count": 183,
   "metadata": {},
   "outputs": [],
   "source": [
    "def getScan(scanPath):\n",
    "    \n",
    "    data = sitk.ReadImage(scanPath)\n",
    "    scan = sitk.GetArrayFromImage(data)\n",
    "    \n",
    "    return scan"
   ]
  },
  {
   "cell_type": "code",
   "execution_count": 206,
   "metadata": {},
   "outputs": [
    {
     "data": {
      "text/plain": [
       "<matplotlib.image.AxesImage at 0x7fe5bbe5f940>"
      ]
     },
     "execution_count": 206,
     "metadata": {},
     "output_type": "execute_result"
    },
    {
     "data": {
      "image/png": "[encoded data removed]",
      "text/plain": [
       "<Figure size 432x288 with 1 Axes>"
      ]
     },
     "metadata": {
      "needs_background": "light"
     },
     "output_type": "display_data"
    }
   ],
   "source": [
    "scan = getScan(\"/Users/phoenixji/Desktop/LungData/Covid-DirectSeg-Data/Zenodo Data/Lung_Mask/coronacases_002.nii.gz\")\n",
    "plt.imshow(scan[130],cmap='gray')"
   ]
  },
  {
   "cell_type": "code",
   "execution_count": 180,
   "metadata": {},
   "outputs": [
    {
     "data": {
      "text/plain": [
       "<matplotlib.image.AxesImage at 0x7fe5cefa4130>"
      ]
     },
     "execution_count": 180,
     "metadata": {},
     "output_type": "execute_result"
    },
    {
     "data": {
      "image/png": "[encoded data removed]",
      "text/plain": [
       "<Figure size 432x288 with 1 Axes>"
      ]
     },
     "metadata": {
      "needs_background": "light"
     },
     "output_type": "display_data"
    }
   ],
   "source": [
    "scan = getScan(\"/Users/phoenixji/Desktop/LungData/seg-lungs-LUNA16/1.3.6.1.4.1.14519.5.2.1.6279.6001.109002525524522225658609808059.mhd\")\n",
    "plt.imshow(scan[55],cmap='gray')"
   ]
  },
  {
   "cell_type": "code",
   "execution_count": 181,
   "metadata": {},
   "outputs": [
    {
     "data": {
      "text/plain": [
       "<matplotlib.image.AxesImage at 0x7fe5cf0bb8b0>"
      ]
     },
     "execution_count": 181,
     "metadata": {},
     "output_type": "execute_result"
    },
    {
     "data": {
      "image/png": "[encoded data removed]",
      "text/plain": [
       "<Figure size 432x288 with 1 Axes>"
      ]
     },
     "metadata": {
      "needs_background": "light"
     },
     "output_type": "display_data"
    }
   ],
   "source": [
    "scan = np.where(scan==0,scan,1)\n",
    "plt.imshow(scan[55],cmap='gray')"
   ]
  },
  {
   "cell_type": "code",
   "execution_count": 5,
   "metadata": {},
   "outputs": [],
   "source": [
    "def normalizeScan(volume):\n",
    "    \n",
    "    min = -1000\n",
    "    max = 400\n",
    "    volume[volume < min] = min\n",
    "    volume[volume > max] = max\n",
    "    volume = (volume-min)/(max-min)\n",
    "    volume = volume.astype(\"float32\")\n",
    "    \n",
    "    return volume"
   ]
  },
  {
   "cell_type": "code",
   "execution_count": 6,
   "metadata": {},
   "outputs": [],
   "source": [
    "def resizeScan(scan,target_shape):\n",
    "        \n",
    "    current_width,current_height,current_depth = scan.shape\n",
    "        \n",
    "    target_width,target_height,target_depth = target_shape\n",
    "    \n",
    "    # Compute depth factor by 1/(D/N) \n",
    "    # Refer to the paper Uniformizing Techniques to Process CT scans with 3D CNNs for Tuberculosis Prediction\n",
    "    \n",
    "    width_factor = 1/(current_width/target_width)\n",
    "    height_factor = 1/(current_height/target_height)\n",
    "    depth_factor = 1/(current_depth/target_depth)\n",
    "    \n",
    "    # ndimage.zoom(): The array is zoomed using spline interpolation of the requested order.\n",
    "    #scan = ndimage.rotate(scan, 90, reshape=False)\n",
    "    \n",
    "    scan = ndimage.zoom(scan,(width_factor,height_factor,depth_factor),order = 1)\n",
    "    \n",
    "    #print(width_factor,height_factor,depth_factor)\n",
    "    \n",
    "    return scan"
   ]
  },
  {
   "cell_type": "code",
   "execution_count": 7,
   "metadata": {},
   "outputs": [],
   "source": [
    "def preprocessScan(scanPath,target_shape):\n",
    "    \n",
    "    scan = getScan(scanPath)\n",
    "    \n",
    "    if(scan.shape[0] != scan.shape[1]):\n",
    "        scan = np.swapaxes(scan,0,1)  #(64,128,128) => (128,128,64)\n",
    "        scan = np.swapaxes(scan,1,2)\n",
    "        \n",
    "    scan = normalizeScan(scan)\n",
    "    \n",
    "    scan = resizeScan(scan,target_shape)\n",
    "    \n",
    "  \n",
    "    \n",
    "    return scan"
   ]
  },
  {
   "cell_type": "code",
   "execution_count": 8,
   "metadata": {},
   "outputs": [],
   "source": [
    "def getLungSegScan(ScanPath):\n",
    "\n",
    "    scan = getScan(ScanPath)\n",
    "    lungMask = np.array([get_segmented_lungs(slice.copy()) for slice in scan])\n",
    "    scan[~lungMask] = 0\n",
    "    scan = normalizeScan(scan)\n",
    "\n",
    "\n",
    "    if(scan.shape[0] != scan.shape[1]):\n",
    "      scan = np.swapaxes(scan,0,1)  \n",
    "      scan = np.swapaxes(scan,1,2)\n",
    "\n",
    "    scan = resizeScan(scan,(128,128,64))\n",
    "    scan = np.expand_dims(scan,axis=-1)\n",
    "\n",
    "    return scan"
   ]
  },
  {
   "cell_type": "code",
   "execution_count": null,
   "metadata": {},
   "outputs": [],
   "source": []
  }
 ],
 "metadata": {
  "kernelspec": {
   "display_name": "Python 3",
   "language": "python",
   "name": "python3"
  },
  "language_info": {
   "codemirror_mode": {
    "name": "ipython",
    "version": 3
   },
   "file_extension": ".py",
   "mimetype": "text/x-python",
   "name": "python",
   "nbconvert_exporter": "python",
   "pygments_lexer": "ipython3",
   "version": "3.8.5"
  }
 },
 "nbformat": 4,
 "nbformat_minor": 4
}
